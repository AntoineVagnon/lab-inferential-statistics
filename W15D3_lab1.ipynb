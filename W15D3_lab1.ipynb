{
 "cells": [
  {
   "cell_type": "markdown",
   "id": "50069a38",
   "metadata": {},
   "source": [
    "**Null hypothesis** - The average systolic blood pressure of the group is not significantly different from the general population.\n",
    "\n",
    "H0: μ = 120 mm Hg \n",
    "\n",
    "**Alternative Hypothesis** - The average systolic blood pressure of the group is significantly different from the general population.\n",
    "    \n",
    "H1: μ != 120 mm Hg\n",
    "\n",
    "Let's assume now a level of significance equal to 5%\n",
    "\n",
    "α=0.05\n",
    "\n",
    "Now,let's choose the type of test. Given the small sample size (100) we can use the t-test."
   ]
  },
  {
   "cell_type": "markdown",
   "id": "ef46b1b3",
   "metadata": {},
   "source": [
    "**Calculation**: \n",
    "    \n",
    "t = (Sample mean - Population mean) / (Sample standard deviation - √Sample size)\n",
    "\n",
    "t = (130.1 - 120) / (21.21 - √100) = 4.76"
   ]
  },
  {
   "cell_type": "code",
   "execution_count": 2,
   "id": "dcfc63cf",
   "metadata": {},
   "outputs": [
    {
     "name": "stdout",
     "output_type": "stream",
     "text": [
      "4.761904761904759\n"
     ]
    }
   ],
   "source": [
    "# Here are the Values\n",
    "sample_mean = 130.1\n",
    "population_mean = 120\n",
    "sample_std = 21.21\n",
    "n = 100\n",
    "\n",
    "# Here is the calculation of the t-test statistic\n",
    "t_statistic = (sample_mean - population_mean) / (sample_std / (n**0.5))\n",
    "print(t_statistic)"
   ]
  },
  {
   "cell_type": "markdown",
   "id": "8db87936",
   "metadata": {},
   "source": [
    "Given our sample (100), our degree of liberty (n-1) and our level of significance (0.025) the critical value is 1.984. \n",
    "\n",
    "t > 1.984 so we reject the null hypothesis. "
   ]
  },
  {
   "cell_type": "code",
   "execution_count": null,
   "id": "acdc2367",
   "metadata": {},
   "outputs": [],
   "source": []
  }
 ],
 "metadata": {
  "kernelspec": {
   "display_name": "Python 3 (ipykernel)",
   "language": "python",
   "name": "python3"
  },
  "language_info": {
   "codemirror_mode": {
    "name": "ipython",
    "version": 3
   },
   "file_extension": ".py",
   "mimetype": "text/x-python",
   "name": "python",
   "nbconvert_exporter": "python",
   "pygments_lexer": "ipython3",
   "version": "3.10.9"
  }
 },
 "nbformat": 4,
 "nbformat_minor": 5
}
